{
 "cells": [
  {
   "cell_type": "code",
   "execution_count": 4,
   "metadata": {},
   "outputs": [],
   "source": [
    "import pandas as pd\n",
    "import numpy as np\n",
    "import matplotlib.pyplot as plt\n",
    "import seaborn as sns\n",
    "%matplotlib inline\n"
   ]
  },
  {
   "cell_type": "code",
   "execution_count": 5,
   "metadata": {},
   "outputs": [],
   "source": [
    "#load the file \n",
    "\n",
    "df = pd.read_excel('data/infrastructure.xlsx',usecols = [0,1,2,3,4,5,6,7,8,29,31],index=False)\n"
   ]
  },
  {
   "cell_type": "code",
   "execution_count": 6,
   "metadata": {},
   "outputs": [
    {
     "data": {
      "text/html": [
       "<div>\n",
       "<style scoped>\n",
       "    .dataframe tbody tr th:only-of-type {\n",
       "        vertical-align: middle;\n",
       "    }\n",
       "\n",
       "    .dataframe tbody tr th {\n",
       "        vertical-align: top;\n",
       "    }\n",
       "\n",
       "    .dataframe thead th {\n",
       "        text-align: right;\n",
       "    }\n",
       "</style>\n",
       "<table border=\"1\" class=\"dataframe\">\n",
       "  <thead>\n",
       "    <tr style=\"text-align: right;\">\n",
       "      <th></th>\n",
       "      <th>Ref No</th>\n",
       "      <th>Name</th>\n",
       "      <th>Construction Percentage</th>\n",
       "      <th>Country</th>\n",
       "      <th>Industry</th>\n",
       "      <th>Project Status</th>\n",
       "      <th>ProjectValue_USdollars_Mn</th>\n",
       "      <th>Master Project Value (USdollars Mn)</th>\n",
       "      <th>Client</th>\n",
       "      <th>City/Province</th>\n",
       "      <th>Industry Type</th>\n",
       "    </tr>\n",
       "  </thead>\n",
       "  <tbody>\n",
       "    <tr>\n",
       "      <th>0</th>\n",
       "      <td>UIS765</td>\n",
       "      <td>Etihad Rail (Emirates Railway Project) - Stage 3</td>\n",
       "      <td>NaN</td>\n",
       "      <td>United Arab Emirates</td>\n",
       "      <td>Infrastructure</td>\n",
       "      <td>Design</td>\n",
       "      <td>1200.0</td>\n",
       "      <td>0.0</td>\n",
       "      <td>Etihad Rail, Abu Dhabi Department of Transport...</td>\n",
       "      <td>Abu Dhabi</td>\n",
       "      <td>Rail</td>\n",
       "    </tr>\n",
       "    <tr>\n",
       "      <th>1</th>\n",
       "      <td>UIS872</td>\n",
       "      <td>Etihad Rail Stage 2 - Package C</td>\n",
       "      <td>NaN</td>\n",
       "      <td>United Arab Emirates</td>\n",
       "      <td>Infrastructure</td>\n",
       "      <td>Design</td>\n",
       "      <td>1400.0</td>\n",
       "      <td>0.0</td>\n",
       "      <td>Abu Dhabi Department of Transport (DOT), Etiha...</td>\n",
       "      <td>Dubai</td>\n",
       "      <td>Rail</td>\n",
       "    </tr>\n",
       "    <tr>\n",
       "      <th>2</th>\n",
       "      <td>UIS871</td>\n",
       "      <td>Etihad Rail Stage 2 - Package B</td>\n",
       "      <td>NaN</td>\n",
       "      <td>United Arab Emirates</td>\n",
       "      <td>Infrastructure</td>\n",
       "      <td>Design</td>\n",
       "      <td>1400.0</td>\n",
       "      <td>0.0</td>\n",
       "      <td>Etihad Rail, Abu Dhabi Department of Transport...</td>\n",
       "      <td>Abu Dhabi</td>\n",
       "      <td>Rail</td>\n",
       "    </tr>\n",
       "    <tr>\n",
       "      <th>3</th>\n",
       "      <td>UIS283</td>\n",
       "      <td>Etihad Rail (Emirates Railway Project)</td>\n",
       "      <td>NaN</td>\n",
       "      <td>United Arab Emirates</td>\n",
       "      <td>Infrastructure</td>\n",
       "      <td>Design</td>\n",
       "      <td>3402.0</td>\n",
       "      <td>11000.0</td>\n",
       "      <td>Etihad Rail, Abu Dhabi Department of Transport...</td>\n",
       "      <td>Abu Dhabi</td>\n",
       "      <td>Rail</td>\n",
       "    </tr>\n",
       "    <tr>\n",
       "      <th>4</th>\n",
       "      <td>UPW415</td>\n",
       "      <td>Barakah Nuclear Power Plant in Abu Dhabi</td>\n",
       "      <td>72.0</td>\n",
       "      <td>United Arab Emirates</td>\n",
       "      <td>Power &amp; Water</td>\n",
       "      <td>Construction</td>\n",
       "      <td>2500.0</td>\n",
       "      <td>0.0</td>\n",
       "      <td>Emirates Nuclear Energy Corporation (ENEC)</td>\n",
       "      <td>Abu Dhabi</td>\n",
       "      <td>Power Plant</td>\n",
       "    </tr>\n",
       "  </tbody>\n",
       "</table>\n",
       "</div>"
      ],
      "text/plain": [
       "   Ref No                                              Name  \\\n",
       "0  UIS765  Etihad Rail (Emirates Railway Project) - Stage 3   \n",
       "1  UIS872                   Etihad Rail Stage 2 - Package C   \n",
       "2  UIS871                   Etihad Rail Stage 2 - Package B   \n",
       "3  UIS283            Etihad Rail (Emirates Railway Project)   \n",
       "4  UPW415          Barakah Nuclear Power Plant in Abu Dhabi   \n",
       "\n",
       "   Construction Percentage               Country        Industry  \\\n",
       "0                      NaN  United Arab Emirates  Infrastructure   \n",
       "1                      NaN  United Arab Emirates  Infrastructure   \n",
       "2                      NaN  United Arab Emirates  Infrastructure   \n",
       "3                      NaN  United Arab Emirates  Infrastructure   \n",
       "4                     72.0  United Arab Emirates   Power & Water   \n",
       "\n",
       "  Project Status  ProjectValue_USdollars_Mn  \\\n",
       "0         Design                     1200.0   \n",
       "1         Design                     1400.0   \n",
       "2         Design                     1400.0   \n",
       "3         Design                     3402.0   \n",
       "4   Construction                     2500.0   \n",
       "\n",
       "   Master Project Value (USdollars Mn)  \\\n",
       "0                                  0.0   \n",
       "1                                  0.0   \n",
       "2                                  0.0   \n",
       "3                              11000.0   \n",
       "4                                  0.0   \n",
       "\n",
       "                                              Client City/Province  \\\n",
       "0  Etihad Rail, Abu Dhabi Department of Transport...     Abu Dhabi   \n",
       "1  Abu Dhabi Department of Transport (DOT), Etiha...         Dubai   \n",
       "2  Etihad Rail, Abu Dhabi Department of Transport...     Abu Dhabi   \n",
       "3  Etihad Rail, Abu Dhabi Department of Transport...     Abu Dhabi   \n",
       "4         Emirates Nuclear Energy Corporation (ENEC)     Abu Dhabi   \n",
       "\n",
       "  Industry Type  \n",
       "0          Rail  \n",
       "1          Rail  \n",
       "2          Rail  \n",
       "3          Rail  \n",
       "4   Power Plant  "
      ]
     },
     "execution_count": 6,
     "metadata": {},
     "output_type": "execute_result"
    }
   ],
   "source": [
    "\n",
    "df.columns = df.columns.str.replace('$','dollars')\n",
    "df = df.rename(columns={'Project Value (USdollars Mn)': 'ProjectValue_USdollars_Mn'})\n",
    "\n",
    "df.head()"
   ]
  },
  {
   "cell_type": "code",
   "execution_count": 7,
   "metadata": {},
   "outputs": [
    {
     "name": "stdout",
     "output_type": "stream",
     "text": [
      "<class 'pandas.core.frame.DataFrame'>\n",
      "RangeIndex: 1318 entries, 0 to 1317\n",
      "Data columns (total 11 columns):\n",
      "Ref No                                 1318 non-null object\n",
      "Name                                   1318 non-null object\n",
      "Construction Percentage                822 non-null float64\n",
      "Country                                1318 non-null object\n",
      "Industry                               1318 non-null object\n",
      "Project Status                         1318 non-null object\n",
      "ProjectValue_USdollars_Mn              1318 non-null float64\n",
      "Master Project Value (USdollars Mn)    1318 non-null float64\n",
      "Client                                 1315 non-null object\n",
      "City/Province                          1303 non-null object\n",
      "Industry Type                          1318 non-null object\n",
      "dtypes: float64(3), object(8)\n",
      "memory usage: 113.3+ KB\n"
     ]
    }
   ],
   "source": [
    "df.info()"
   ]
  },
  {
   "cell_type": "code",
   "execution_count": 8,
   "metadata": {},
   "outputs": [
    {
     "data": {
      "text/plain": [
       "Ref No                                   0\n",
       "Name                                     0\n",
       "Construction Percentage                496\n",
       "Country                                  0\n",
       "Industry                                 0\n",
       "Project Status                           0\n",
       "ProjectValue_USdollars_Mn                0\n",
       "Master Project Value (USdollars Mn)      0\n",
       "Client                                   3\n",
       "City/Province                           15\n",
       "Industry Type                            0\n",
       "dtype: int64"
      ]
     },
     "execution_count": 8,
     "metadata": {},
     "output_type": "execute_result"
    }
   ],
   "source": [
    "df.isnull().sum()"
   ]
  },
  {
   "cell_type": "code",
   "execution_count": 9,
   "metadata": {},
   "outputs": [
    {
     "data": {
      "text/plain": [
       "Ref No                                 0\n",
       "Name                                   0\n",
       "Construction Percentage                0\n",
       "Country                                0\n",
       "Industry                               0\n",
       "Project Status                         0\n",
       "ProjectValue_USdollars_Mn              0\n",
       "Master Project Value (USdollars Mn)    0\n",
       "Client                                 0\n",
       "City/Province                          0\n",
       "Industry Type                          0\n",
       "dtype: int64"
      ]
     },
     "execution_count": 9,
     "metadata": {},
     "output_type": "execute_result"
    }
   ],
   "source": [
    "#dealing with missing values\n",
    "\n",
    "df.replace({\n",
    "    'Construction Percentage': { np.nan : 0 },\n",
    "    \n",
    "    \n",
    "}, inplace=True)\n",
    "\n",
    "df.dropna(axis=0, how='any', inplace=True)\n",
    "df.isnull().sum()"
   ]
  },
  {
   "cell_type": "code",
   "execution_count": 14,
   "metadata": {},
   "outputs": [
    {
     "name": "stdout",
     "output_type": "stream",
     "text": [
      "Infrastructure    458\n",
      "Oil & Gas         376\n",
      "Power & Water     264\n",
      "Industrial        202\n",
      "Name: Industry, dtype: int64\n"
     ]
    }
   ],
   "source": [
    "print(df['Industry'].value_counts())\n"
   ]
  },
  {
   "cell_type": "code",
   "execution_count": 15,
   "metadata": {},
   "outputs": [
    {
     "data": {
      "text/plain": [
       "<matplotlib.axes._subplots.AxesSubplot at 0x11db19be0>"
      ]
     },
     "execution_count": 15,
     "metadata": {},
     "output_type": "execute_result"
    },
    {
     "data": {
      "image/png": "[encoded data removed]",
      "text/plain": [
       "<Figure size 432x288 with 1 Axes>"
      ]
     },
     "metadata": {
      "needs_background": "light"
     },
     "output_type": "display_data"
    }
   ],
   "source": [
    "#visualizing the major Industries\n",
    "\n",
    "sns.barplot(x=df.Industry.value_counts().index, y=df.Industry.value_counts())\n"
   ]
  },
  {
   "cell_type": "markdown",
   "metadata": {},
   "source": [
    "### Most of the project contribution comes from Infrastructure and  Oil&Gas Industries. The least contribution to projects is from Industrial industry."
   ]
  },
  {
   "cell_type": "code",
   "execution_count": null,
   "metadata": {},
   "outputs": [],
   "source": [
    "#visualizing the major industries in different cities\n",
    "\n",
    "df.groupby(['City/Province','Industry']).size().unstack().plot(kind='bar')\n"
   ]
  },
  {
   "cell_type": "markdown",
   "metadata": {},
   "source": [
    "### Majority of projects comes from Abu Dhabi. Ajman stands down the line with only few projects. Methods to be implemented on acquiring more projects from cities such as Ajman and  Umm Al Quwain."
   ]
  },
  {
   "cell_type": "code",
   "execution_count": null,
   "metadata": {},
   "outputs": [],
   "source": [
    "#grouping project values into range\n",
    "\n",
    "df.loc[df.ProjectValue_USdollars_Mn< 500 , 'Project value group'] = '<500'\n"
   ]
  },
  {
   "cell_type": "code",
   "execution_count": null,
   "metadata": {},
   "outputs": [],
   "source": [
    "df.loc[(df.ProjectValue_USdollars_Mn> 500)&(df.ProjectValue_USdollars_Mn<=1000) , 'Project value group'] = '500-1000'\n",
    "df.loc[(df.ProjectValue_USdollars_Mn > 1000)&(df.ProjectValue_USdollars_Mn<=2000) , 'Project value group'] = '1000-2000'\n",
    "df.loc[(df.ProjectValue_USdollars_Mn > 2000)&(df.ProjectValue_USdollars_Mn<=4000) , 'Project value group'] = '2000-4000'\n",
    "df.loc[(df.ProjectValue_USdollars_Mn > 4000)&(df.ProjectValue_USdollars_Mn<=5000) , 'Project value group'] = '4000-5000'\n",
    "df.loc[df.ProjectValue_USdollars_Mn >5000 , 'Project value group'] = '>5000'"
   ]
  },
  {
   "cell_type": "code",
   "execution_count": null,
   "metadata": {},
   "outputs": [],
   "source": [
    "df.head()"
   ]
  },
  {
   "cell_type": "code",
   "execution_count": null,
   "metadata": {},
   "outputs": [],
   "source": [
    "#visualizing project value of different Industries\n",
    "\n",
    "df.groupby(['Industry','Project value group']).size().unstack().plot(kind='bar')\n"
   ]
  },
  {
   "cell_type": "markdown",
   "metadata": {},
   "source": [
    "###  Majority of projects are in the project value range '<500'. Infrastructure Industry contributes more to the project value. Oil and gas Industry contributes to all ranges of project values in fair way. \n",
    "### emphasis should be given in acquiring more projects from Industrial sector. Also methods should be thought of on how to acquire large value projects in Infrastructure and power & water Industries.\n"
   ]
  },
  {
   "cell_type": "code",
   "execution_count": null,
   "metadata": {},
   "outputs": [],
   "source": [
    "from math import sqrt\n",
    "from numpy import mean\n",
    "from scipy.stats import sem\n",
    "from scipy.stats import t\n"
   ]
  },
  {
   "cell_type": "code",
   "execution_count": null,
   "metadata": {},
   "outputs": [],
   "source": [
    "def independent_ttest(data1, data2, alpha):\n",
    "    mean1, mean2 = data1.mean(), data2.mean()\n",
    "    # calculate standard errors\n",
    "    se1, se2 = sem(data1), sem(data2)\n",
    "    # standard error on the difference between the samples\n",
    "    sed = sqrt(se1**2.0 + se2**2.0)\n",
    "    # calculate the t statistic\n",
    "    t_stat = (mean1 - mean2) / sed\n",
    "    # degrees of freedom\n",
    "    dsf = len(data1) + len(data2) - 2\n",
    "    # calculate the critical value\n",
    "    cv = t.ppf(1.0 - alpha, dsf)\n",
    "    # calculate the p-value\n",
    "    p = (1.0 - t.cdf(abs(t_stat), dsf)) * 2.0\n",
    "    # return everything\n",
    "    return t_stat, dsf, cv, p\n",
    "\n",
    "\n"
   ]
  },
  {
   "cell_type": "code",
   "execution_count": null,
   "metadata": {},
   "outputs": [],
   "source": [
    "\n",
    "\n",
    "x = df['Industry'] == 'Infrastructure'\n",
    "infra =df[x]\n",
    "infra_data =  infra['ProjectValue_USdollars_Mn']\n",
    "\n",
    "y = df['Industry'] == 'Power & Water'\n",
    "powandwater =df[y]\n",
    "pw_data =  powandwater['ProjectValue_USdollars_Mn']\n",
    "\n",
    "# calculate the t test\n",
    "alpha = 0.05\n",
    "t_stat, dsf, cv, p = independent_ttest(infra_data, pw_data, alpha)\n",
    "print('t=%.3f, dsf=%d, cv=%.3f, p=%.3f' % (t_stat, dsf, cv, p))"
   ]
  },
  {
   "cell_type": "code",
   "execution_count": null,
   "metadata": {},
   "outputs": [],
   "source": [
    "\n",
    "# interpret results\n",
    "if abs(t_stat) <= cv:\n",
    "    print('Accept null hypothesis that the means are equal.')\n",
    "else:\n",
    "    print('Reject the null hypothesis that the means are equal.')"
   ]
  },
  {
   "cell_type": "markdown",
   "metadata": {},
   "source": [
    "#### There is no significant difference between the average project value for 'Infrastructure'  and 'Power&Water' Industries. \n"
   ]
  },
  {
   "cell_type": "code",
   "execution_count": null,
   "metadata": {},
   "outputs": [],
   "source": [
    "x = df['Industry'] == 'Industrial'\n",
    "infra =df[x]\n",
    "infra_data =  infra['ProjectValue_USdollars_Mn']\n",
    "\n",
    "y = df['Industry'] == 'Power & Water'\n",
    "powandwater =df[y]\n",
    "pw_data =  powandwater['ProjectValue_USdollars_Mn']\n",
    "\n",
    "# calculate the t test\n",
    "alpha = 0.05\n",
    "t_stat, dsf, cv, p = independent_ttest(infra_data, pw_data, alpha)\n",
    "print('t=%.3f, dsf=%d, cv=%.3f, p=%.3f' % (t_stat, dsf, cv, p))"
   ]
  },
  {
   "cell_type": "code",
   "execution_count": null,
   "metadata": {},
   "outputs": [],
   "source": [
    "\n",
    "# interpret results\n",
    "if abs(t_stat) <= cv:\n",
    "    print('Accept null hypothesis that the means are equal.')\n",
    "else:\n",
    "    print('Reject the null hypothesis that the means are equal.')\n"
   ]
  },
  {
   "cell_type": "markdown",
   "metadata": {},
   "source": [
    "#### There is  significant difference between the average project value for 'Industrial'  and  'Power&Water' Industries. \n"
   ]
  }
 ],
 "metadata": {
  "kernelspec": {
   "display_name": "Python 3",
   "language": "python",
   "name": "python3"
  },
  "language_info": {
   "codemirror_mode": {
    "name": "ipython",
    "version": 3
   },
   "file_extension": ".py",
   "mimetype": "text/x-python",
   "name": "python",
   "nbconvert_exporter": "python",
   "pygments_lexer": "ipython3",
   "version": "3.6.7"
  }
 },
 "nbformat": 4,
 "nbformat_minor": 2
}
